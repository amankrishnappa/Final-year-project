{
 "cells": [
  {
   "cell_type": "markdown",
   "id": "9f5b285a",
   "metadata": {},
   "source": [
    "# Depression, Anxiety, & Stress estimation using AI and Data Science\n",
    "*A project made for HealthCoder-2023*\n",
    "\n",
    "**Team Members:**\n",
    "   - Shraddha Pattnaik (B420047)\n",
    "   - Soumyajeet Muni (B420051)\n",
    "   - Swastik Babu (B420055)"
   ]
  },
  {
   "cell_type": "markdown",
   "id": "ba4ac578",
   "metadata": {},
   "source": [
    "## Import Necessaries Libraries"
   ]
  },
  {
   "cell_type": "code",
   "execution_count": 6,
   "id": "a5a533a5",
   "metadata": {},
   "outputs": [
    {
     "name": "stdout",
     "output_type": "stream",
     "text": [
      "<class 'pandas.core.frame.DataFrame'>\n",
      "RangeIndex: 39775 entries, 0 to 39774\n",
      "Data columns (total 1 columns):\n",
      " #   Column                                                                                                                                                                                                                                                                                                                                                                                                                                                                                                                                                                                                                                                                                                                                                                                                                                                                                                                                                                  Non-Null Count  Dtype \n",
      "---  ------                                                                                                                                                                                                                                                                                                                                                                                                                                                                                                                                                                                                                                                                                                                                                                                                                                                                                                                                                                  --------------  ----- \n",
      " 0   Q1A\tQ1I\tQ1E\tQ2A\tQ2I\tQ2E\tQ3A\tQ3I\tQ3E\tQ4A\tQ4I\tQ4E\tQ5A\tQ5I\tQ5E\tQ6A\tQ6I\tQ6E\tQ7A\tQ7I\tQ7E\tQ8A\tQ8I\tQ8E\tQ9A\tQ9I\tQ9E\tQ10A\tQ10I\tQ10E\tQ11A\tQ11I\tQ11E\tQ12A\tQ12I\tQ12E\tQ13A\tQ13I\tQ13E\tQ14A\tQ14I\tQ14E\tQ15A\tQ15I\tQ15E\tQ16A\tQ16I\tQ16E\tQ17A\tQ17I\tQ17E\tQ18A\tQ18I\tQ18E\tQ19A\tQ19I\tQ19E\tQ20A\tQ20I\tQ20E\tQ21A\tQ21I\tQ21E\tQ22A\tQ22I\tQ22E\tQ23A\tQ23I\tQ23E\tQ24A\tQ24I\tQ24E\tQ25A\tQ25I\tQ25E\tQ26A\tQ26I\tQ26E\tQ27A\tQ27I\tQ27E\tQ28A\tQ28I\tQ28E\tQ29A\tQ29I\tQ29E\tQ30A\tQ30I\tQ30E\tQ31A\tQ31I\tQ31E\tQ32A\tQ32I\tQ32E\tQ33A\tQ33I\tQ33E\tQ34A\tQ34I\tQ34E\tQ35A\tQ35I\tQ35E\tQ36A\tQ36I\tQ36E\tQ37A\tQ37I\tQ37E\tQ38A\tQ38I\tQ38E\tQ39A\tQ39I\tQ39E\tQ40A\tQ40I\tQ40E\tQ41A\tQ41I\tQ41E\tQ42A\tQ42I\tQ42E\tcountry\tsource\tintroelapse\ttestelapse\tsurveyelapse\tTIPI1\tTIPI2\tTIPI3\tTIPI4\tTIPI5\tTIPI6\tTIPI7\tTIPI8\tTIPI9\tTIPI10\tVCL1\tVCL2\tVCL3\tVCL4\tVCL5\tVCL6\tVCL7\tVCL8\tVCL9\tVCL10\tVCL11\tVCL12\tVCL13\tVCL14\tVCL15\tVCL16\teducation\turban\tgender\tengnat\tage\tscreensize\tuniquenetworklocation\thand\treligion\torientation\trace\tvoted\tmarried\tfamilysize\tmajor,,,,  39775 non-null  object\n",
      "dtypes: object(1)\n",
      "memory usage: 310.9+ KB\n"
     ]
    }
   ],
   "source": [
    "import numpy as np\n",
    "import pandas as pd\n",
    "import matplotlib.pyplot as plt\n",
    "\n",
    "from sklearn.preprocessing import StandardScaler\n",
    "from sklearn.neighbors import KNeighborsClassifier\n",
    "from sklearn.naive_bayes import GaussianNB\n",
    "from sklearn.ensemble import RandomForestClassifier\n",
    "from sklearn.svm import SVC\n",
    "from xgboost import XGBClassifier\n",
    "\n",
    "from sklearn.model_selection import train_test_split, cross_val_score\n",
    "from sklearn.preprocessing import LabelEncoder\n",
    "from sklearn.metrics import accuracy_score\n",
    "from sklearn.metrics import confusion_matrix\n",
    "from sklearn.metrics import classification_report\n",
    "from scipy.stats import mode\n",
    "\n",
    "import warnings\n",
    "warnings.filterwarnings('ignore')\n",
    "\n",
    "df = pd.read_csv(r'C:\\Users\\visha\\Downloads\\DASS_data_21.02.19\\DASS_data_21.02.19\\data.csv',sep='\\t')\n",
    "df.info()"
   ]
  },
  {
   "cell_type": "markdown",
   "id": "ca96a2ba",
   "metadata": {},
   "source": [
    "## Data Cleaning\n",
    "In the dataset, VCL6, VCL9, VCL12 are not real words and are used for validity check.\n",
    "1. Create a new column in the DataFrame called 'wrongansw' and initializes it to zero for all rows.\n",
    "2. Update the 'wrongansw' column based on a condition:\n",
    "    It uses the where method of the DataFrame to apply a condition where df[''] equals 0. \n",
    "    If the condition is true, then the 'wrongansw' column remains unchanged.\n",
    "    If the condition is false, then the 'wrongansw' column is incremented by 1.\n",
    "3. Use answers that have checked at least 2 of the words\n",
    "4. Drop 'wrongansw' and 'VCL' columns\n",
    "5. Drop 'major' columns"
   ]
  },
  {
   "cell_type": "code",
   "execution_count": 7,
   "id": "0a581352",
   "metadata": {},
   "outputs": [
    {
     "ename": "KeyError",
     "evalue": "'VCL6'",
     "output_type": "error",
     "traceback": [
      "\u001b[1;31m---------------------------------------------------------------------------\u001b[0m",
      "\u001b[1;31mKeyError\u001b[0m                                  Traceback (most recent call last)",
      "File \u001b[1;32m~\\AppData\\Local\\Packages\\PythonSoftwareFoundation.Python.3.11_qbz5n2kfra8p0\\LocalCache\\local-packages\\Python311\\site-packages\\pandas\\core\\indexes\\base.py:3790\u001b[0m, in \u001b[0;36mIndex.get_loc\u001b[1;34m(self, key)\u001b[0m\n\u001b[0;32m   3789\u001b[0m \u001b[38;5;28;01mtry\u001b[39;00m:\n\u001b[1;32m-> 3790\u001b[0m     \u001b[38;5;28;01mreturn\u001b[39;00m \u001b[38;5;28;43mself\u001b[39;49m\u001b[38;5;241;43m.\u001b[39;49m\u001b[43m_engine\u001b[49m\u001b[38;5;241;43m.\u001b[39;49m\u001b[43mget_loc\u001b[49m\u001b[43m(\u001b[49m\u001b[43mcasted_key\u001b[49m\u001b[43m)\u001b[49m\n\u001b[0;32m   3791\u001b[0m \u001b[38;5;28;01mexcept\u001b[39;00m \u001b[38;5;167;01mKeyError\u001b[39;00m \u001b[38;5;28;01mas\u001b[39;00m err:\n",
      "File \u001b[1;32mindex.pyx:152\u001b[0m, in \u001b[0;36mpandas._libs.index.IndexEngine.get_loc\u001b[1;34m()\u001b[0m\n",
      "File \u001b[1;32mindex.pyx:181\u001b[0m, in \u001b[0;36mpandas._libs.index.IndexEngine.get_loc\u001b[1;34m()\u001b[0m\n",
      "File \u001b[1;32mpandas\\_libs\\hashtable_class_helper.pxi:7080\u001b[0m, in \u001b[0;36mpandas._libs.hashtable.PyObjectHashTable.get_item\u001b[1;34m()\u001b[0m\n",
      "File \u001b[1;32mpandas\\_libs\\hashtable_class_helper.pxi:7088\u001b[0m, in \u001b[0;36mpandas._libs.hashtable.PyObjectHashTable.get_item\u001b[1;34m()\u001b[0m\n",
      "\u001b[1;31mKeyError\u001b[0m: 'VCL6'",
      "\nThe above exception was the direct cause of the following exception:\n",
      "\u001b[1;31mKeyError\u001b[0m                                  Traceback (most recent call last)",
      "Cell \u001b[1;32mIn[7], line 2\u001b[0m\n\u001b[0;32m      1\u001b[0m df[\u001b[38;5;124m'\u001b[39m\u001b[38;5;124mwrongansw\u001b[39m\u001b[38;5;124m'\u001b[39m] \u001b[38;5;241m=\u001b[39m \u001b[38;5;241m0\u001b[39m\n\u001b[1;32m----> 2\u001b[0m df[\u001b[38;5;124m'\u001b[39m\u001b[38;5;124mwrongansw\u001b[39m\u001b[38;5;124m'\u001b[39m] \u001b[38;5;241m=\u001b[39m df[\u001b[38;5;124m'\u001b[39m\u001b[38;5;124mwrongansw\u001b[39m\u001b[38;5;124m'\u001b[39m]\u001b[38;5;241m.\u001b[39mwhere(\u001b[43mdf\u001b[49m\u001b[43m[\u001b[49m\u001b[38;5;124;43m'\u001b[39;49m\u001b[38;5;124;43mVCL6\u001b[39;49m\u001b[38;5;124;43m'\u001b[39;49m\u001b[43m]\u001b[49m\u001b[38;5;241m==\u001b[39m \u001b[38;5;241m0\u001b[39m, df[\u001b[38;5;124m'\u001b[39m\u001b[38;5;124mwrongansw\u001b[39m\u001b[38;5;124m'\u001b[39m] \u001b[38;5;241m+\u001b[39m \u001b[38;5;241m1\u001b[39m)\n\u001b[0;32m      3\u001b[0m df[\u001b[38;5;124m'\u001b[39m\u001b[38;5;124mwrongansw\u001b[39m\u001b[38;5;124m'\u001b[39m] \u001b[38;5;241m=\u001b[39m df[\u001b[38;5;124m'\u001b[39m\u001b[38;5;124mwrongansw\u001b[39m\u001b[38;5;124m'\u001b[39m]\u001b[38;5;241m.\u001b[39mwhere(df[\u001b[38;5;124m'\u001b[39m\u001b[38;5;124mVCL9\u001b[39m\u001b[38;5;124m'\u001b[39m]\u001b[38;5;241m==\u001b[39m \u001b[38;5;241m0\u001b[39m, df[\u001b[38;5;124m'\u001b[39m\u001b[38;5;124mwrongansw\u001b[39m\u001b[38;5;124m'\u001b[39m] \u001b[38;5;241m+\u001b[39m \u001b[38;5;241m1\u001b[39m)\n\u001b[0;32m      4\u001b[0m df[\u001b[38;5;124m'\u001b[39m\u001b[38;5;124mwrongansw\u001b[39m\u001b[38;5;124m'\u001b[39m] \u001b[38;5;241m=\u001b[39m df[\u001b[38;5;124m'\u001b[39m\u001b[38;5;124mwrongansw\u001b[39m\u001b[38;5;124m'\u001b[39m]\u001b[38;5;241m.\u001b[39mwhere(df[\u001b[38;5;124m'\u001b[39m\u001b[38;5;124mVCL12\u001b[39m\u001b[38;5;124m'\u001b[39m]\u001b[38;5;241m==\u001b[39m \u001b[38;5;241m0\u001b[39m, df[\u001b[38;5;124m'\u001b[39m\u001b[38;5;124mwrongansw\u001b[39m\u001b[38;5;124m'\u001b[39m] \u001b[38;5;241m+\u001b[39m \u001b[38;5;241m1\u001b[39m)\n",
      "File \u001b[1;32m~\\AppData\\Local\\Packages\\PythonSoftwareFoundation.Python.3.11_qbz5n2kfra8p0\\LocalCache\\local-packages\\Python311\\site-packages\\pandas\\core\\frame.py:3893\u001b[0m, in \u001b[0;36mDataFrame.__getitem__\u001b[1;34m(self, key)\u001b[0m\n\u001b[0;32m   3891\u001b[0m \u001b[38;5;28;01mif\u001b[39;00m \u001b[38;5;28mself\u001b[39m\u001b[38;5;241m.\u001b[39mcolumns\u001b[38;5;241m.\u001b[39mnlevels \u001b[38;5;241m>\u001b[39m \u001b[38;5;241m1\u001b[39m:\n\u001b[0;32m   3892\u001b[0m     \u001b[38;5;28;01mreturn\u001b[39;00m \u001b[38;5;28mself\u001b[39m\u001b[38;5;241m.\u001b[39m_getitem_multilevel(key)\n\u001b[1;32m-> 3893\u001b[0m indexer \u001b[38;5;241m=\u001b[39m \u001b[38;5;28;43mself\u001b[39;49m\u001b[38;5;241;43m.\u001b[39;49m\u001b[43mcolumns\u001b[49m\u001b[38;5;241;43m.\u001b[39;49m\u001b[43mget_loc\u001b[49m\u001b[43m(\u001b[49m\u001b[43mkey\u001b[49m\u001b[43m)\u001b[49m\n\u001b[0;32m   3894\u001b[0m \u001b[38;5;28;01mif\u001b[39;00m is_integer(indexer):\n\u001b[0;32m   3895\u001b[0m     indexer \u001b[38;5;241m=\u001b[39m [indexer]\n",
      "File \u001b[1;32m~\\AppData\\Local\\Packages\\PythonSoftwareFoundation.Python.3.11_qbz5n2kfra8p0\\LocalCache\\local-packages\\Python311\\site-packages\\pandas\\core\\indexes\\base.py:3797\u001b[0m, in \u001b[0;36mIndex.get_loc\u001b[1;34m(self, key)\u001b[0m\n\u001b[0;32m   3792\u001b[0m     \u001b[38;5;28;01mif\u001b[39;00m \u001b[38;5;28misinstance\u001b[39m(casted_key, \u001b[38;5;28mslice\u001b[39m) \u001b[38;5;129;01mor\u001b[39;00m (\n\u001b[0;32m   3793\u001b[0m         \u001b[38;5;28misinstance\u001b[39m(casted_key, abc\u001b[38;5;241m.\u001b[39mIterable)\n\u001b[0;32m   3794\u001b[0m         \u001b[38;5;129;01mand\u001b[39;00m \u001b[38;5;28many\u001b[39m(\u001b[38;5;28misinstance\u001b[39m(x, \u001b[38;5;28mslice\u001b[39m) \u001b[38;5;28;01mfor\u001b[39;00m x \u001b[38;5;129;01min\u001b[39;00m casted_key)\n\u001b[0;32m   3795\u001b[0m     ):\n\u001b[0;32m   3796\u001b[0m         \u001b[38;5;28;01mraise\u001b[39;00m InvalidIndexError(key)\n\u001b[1;32m-> 3797\u001b[0m     \u001b[38;5;28;01mraise\u001b[39;00m \u001b[38;5;167;01mKeyError\u001b[39;00m(key) \u001b[38;5;28;01mfrom\u001b[39;00m \u001b[38;5;21;01merr\u001b[39;00m\n\u001b[0;32m   3798\u001b[0m \u001b[38;5;28;01mexcept\u001b[39;00m \u001b[38;5;167;01mTypeError\u001b[39;00m:\n\u001b[0;32m   3799\u001b[0m     \u001b[38;5;66;03m# If we have a listlike key, _check_indexing_error will raise\u001b[39;00m\n\u001b[0;32m   3800\u001b[0m     \u001b[38;5;66;03m#  InvalidIndexError. Otherwise we fall through and re-raise\u001b[39;00m\n\u001b[0;32m   3801\u001b[0m     \u001b[38;5;66;03m#  the TypeError.\u001b[39;00m\n\u001b[0;32m   3802\u001b[0m     \u001b[38;5;28mself\u001b[39m\u001b[38;5;241m.\u001b[39m_check_indexing_error(key)\n",
      "\u001b[1;31mKeyError\u001b[0m: 'VCL6'"
     ]
    }
   ],
   "source": [
    "df['wrongansw'] = 0\n",
    "df['wrongansw'] = df['wrongansw'].where(df['VCL6']== 0, df['wrongansw'] + 1)\n",
    "df['wrongansw'] = df['wrongansw'].where(df['VCL9']== 0, df['wrongansw'] + 1)\n",
    "df['wrongansw'] = df['wrongansw'].where(df['VCL12']== 0, df['wrongansw'] + 1)\n",
    "\n",
    "df.wrongansw.value_counts()"
   ]
  },
  {
   "cell_type": "code",
   "execution_count": null,
   "id": "564c41eb",
   "metadata": {},
   "outputs": [],
   "source": [
    "df = df[df['wrongansw'].isin([2, 3])]\n",
    "df = df.drop(columns='wrongansw')\n",
    "df.head(3)\n",
    "df.shape"
   ]
  },
  {
   "cell_type": "code",
   "execution_count": null,
   "id": "af90c47b",
   "metadata": {},
   "outputs": [],
   "source": [
    "# removing the validity check columns\n",
    "vcls = []\n",
    "for i in range(1, 17):\n",
    "    vcls.append('VCL' + str(i))\n",
    "    \n",
    "df = df.drop(columns=vcls)\n",
    "df.shape"
   ]
  },
  {
   "cell_type": "code",
   "execution_count": null,
   "id": "4b30ac72",
   "metadata": {},
   "outputs": [],
   "source": [
    "categorical = df.select_dtypes('object').columns\n",
    "\n",
    "print('Categorical Columns: ', df[categorical].columns)\n",
    "print(df[categorical].nunique())\n",
    "\n",
    "# remove 'major' column\n",
    "df = df.drop(['major'], axis=1)"
   ]
  },
  {
   "cell_type": "markdown",
   "id": "d1f5dad9",
   "metadata": {},
   "source": [
    "## Labelling the questions that are for specific mental disorder"
   ]
  },
  {
   "cell_type": "code",
   "execution_count": null,
   "id": "da0c9b12",
   "metadata": {},
   "outputs": [],
   "source": [
    "DASS_keys = {\n",
    "    'Depression': [3, 5, 10, 13, 16, 17, 21, 24, 26, 31, 34, 37, 38, 42],\n",
    "    'Anxiety': [2, 4, 7, 9, 15, 19, 20, 23, 25, 28, 30, 36, 40, 41],\n",
    "    'Stress': [1, 6, 8, 11, 12, 14, 18, 22, 27, 29, 32, 33, 35, 39]\n",
    "    }"
   ]
  },
  {
   "attachments": {},
   "cell_type": "markdown",
   "id": "e2b0918f",
   "metadata": {},
   "source": [
    "## Data Collection\n",
    "The scores for anxiety, depression and stress were calculated by adding the values associated with the answers to each question of the particular class. Once the final scores had been calculated, they were labelled according to severity, i.e. Extremely Severe, Severe, Moderate, Mild and Normal."
   ]
  },
  {
   "cell_type": "code",
   "execution_count": null,
   "id": "76dadc3c",
   "metadata": {},
   "outputs": [],
   "source": [
    "depr = []\n",
    "for i in DASS_keys[\"Depression\"]:\n",
    "    depr.append('Q' + str(i) + 'A')\n",
    "    \n",
    "anx = []\n",
    "for i in DASS_keys[\"Anxiety\"]:\n",
    "    anx.append('Q' + str(i) + 'A')\n",
    "\n",
    "stre = []\n",
    "for i in DASS_keys[\"Stress\"]:\n",
    "    stre.append('Q' + str(i) + 'A')\n",
    "\n",
    "# making a new dataframe for each disorder \n",
    "\n",
    "df_depr=df.filter(depr) \n",
    "df_anx=df.filter(anx)\n",
    "df_stre=df.filter(stre)"
   ]
  },
  {
   "cell_type": "code",
   "execution_count": null,
   "id": "0d0aa6ef",
   "metadata": {},
   "outputs": [],
   "source": [
    "disorders = [depr, anx, stre]\n",
    "\n",
    "def scores(df): # adds new columns to store total scores for each        \n",
    "    df[\"ScoresDepr\"] = df[depr].sum(axis=1) \n",
    "    df[\"ScoresAnx\"] = df[anx].sum(axis=1)\n",
    "    df[\"ScoresStre\"] = df[stre].sum(axis=1)\n",
    "    return df\n",
    "\n",
    "for i in disorders:\n",
    "        df[i] -= 1 # to get the scores\n",
    "        \n",
    "df = scores(df)\n",
    "        \n",
    "df.head()"
   ]
  },
  {
   "cell_type": "code",
   "execution_count": null,
   "id": "e136ebfe",
   "metadata": {},
   "outputs": [],
   "source": [
    "# CATEGORY: DEPRESSION\n",
    "CategoryDepr=[]\n",
    "\n",
    "for i in df['ScoresDepr']:\n",
    "    if i in range(0,10):\n",
    "        CategoryDepr.append('Normal')\n",
    "    elif i in range(10,14):\n",
    "        CategoryDepr.append('Minimal')\n",
    "    elif i in range(14,21):\n",
    "        CategoryDepr.append('Moderate')\n",
    "    elif i in range(21,28):\n",
    "        CategoryDepr.append('Severe')\n",
    "    else:\n",
    "        CategoryDepr.append('Extremely Severe')\n",
    "        \n",
    "df['CategoryDepr']= CategoryDepr"
   ]
  },
  {
   "cell_type": "code",
   "execution_count": null,
   "id": "bbcd6f77",
   "metadata": {},
   "outputs": [],
   "source": [
    "# CATEGORY: ANXIETY\n",
    "CategoryAnx=[]\n",
    "\n",
    "for i in df['ScoresAnx']:\n",
    "    if i in range(0,8):\n",
    "        CategoryAnx.append('Normal')\n",
    "    elif i in range(8,10):\n",
    "        CategoryAnx.append('Minimal')\n",
    "    elif i in range(10,15):\n",
    "        CategoryAnx.append('Moderate')\n",
    "    elif i in range(15,20):\n",
    "        CategoryAnx.append('Severe')\n",
    "    else:\n",
    "        CategoryAnx.append('Extremely Severe')\n",
    "        \n",
    "df['CategoryAnx']= CategoryAnx"
   ]
  },
  {
   "cell_type": "code",
   "execution_count": null,
   "id": "63b04644",
   "metadata": {},
   "outputs": [],
   "source": [
    "# CATEGORY: STRESS\n",
    "CategoryStre=[]\n",
    "\n",
    "for i in df['ScoresStre']:\n",
    "    if i in range(0,15):\n",
    "        CategoryStre.append('Normal')\n",
    "    elif i in range(15,19):\n",
    "        CategoryStre.append('Minimal')\n",
    "    elif i in range(19,26):\n",
    "        CategoryStre.append('Moderate')\n",
    "    elif i in range(26,34):\n",
    "        CategoryStre.append('Severe')\n",
    "    else:\n",
    "        CategoryStre.append('Extremely Severe')\n",
    "        \n",
    "df['CategoryStre']= CategoryStre"
   ]
  },
  {
   "cell_type": "code",
   "execution_count": null,
   "id": "46e32acf",
   "metadata": {},
   "outputs": [],
   "source": [
    "# checking for duplicates\n",
    "df.isnull().sum()\n",
    "df.duplicated().sum()"
   ]
  },
  {
   "cell_type": "code",
   "execution_count": null,
   "id": "631ffa0b",
   "metadata": {},
   "outputs": [],
   "source": [
    "df"
   ]
  },
  {
   "cell_type": "markdown",
   "id": "1b138aea",
   "metadata": {},
   "source": [
    "## Data Classification Models for Depression"
   ]
  },
  {
   "attachments": {},
   "cell_type": "markdown",
   "id": "7a816ff5",
   "metadata": {},
   "source": [
    "### Data Pre-processing"
   ]
  },
  {
   "cell_type": "code",
   "execution_count": null,
   "id": "f0b3f393",
   "metadata": {},
   "outputs": [],
   "source": [
    "Y = df['CategoryDepr']\n",
    "X = df.drop(columns=['Q2A','Q4A','Q7A','Q9A','Q15A','Q19A','Q20A','Q23A','Q25A','Q28A','Q30A','Q36A','Q40A','Q41A','introelapse','testelapse', 'surveyelapse','engnat','CategoryAnx', 'CategoryDepr', 'CategoryStre','country', 'ScoresAnx' ,'ScoresStre','screensize','uniquenetworklocation','Q1A' ,'Q1I', 'Q1E', 'Q2I', 'Q2E', 'Q3A', 'Q3I', 'Q3E','Q4I','Q4E', 'Q5E', 'Q5A' ,'Q5I', 'Q6E', 'Q6A' ,'Q6I', 'Q7E' ,'Q7I', 'Q8E','Q8A' ,'Q8I', 'Q9E', 'Q9I', 'Q10E', 'Q10A', 'Q10I', 'Q11E', 'Q11A' ,'Q11I', 'Q12E', 'Q12A' ,'Q12I', 'Q13E', 'Q13A' ,'Q13I', 'Q14E', 'Q14A' ,'Q14I', 'Q15E', 'Q15I', 'Q16E', 'Q16A' ,'Q16I', 'Q17E', 'Q17A' ,'Q17I', 'Q18E', 'Q18A' ,'Q18I', 'Q19I', 'Q19E',  'Q20I', 'Q20E', 'Q21A', 'Q21I', 'Q21E', 'Q22A', 'Q22I','Q22E', 'Q23I','Q23E','Q24A','Q24I','Q24E', 'Q25I', 'Q25E', 'Q26A', 'Q26I', 'Q26E', 'Q27A', 'Q27I', 'Q27E', 'Q28I', 'Q28E', 'Q29A', 'Q29I', 'Q29E',  'Q30I', 'Q30E', 'Q31A', 'Q31I', 'Q31E', 'Q32A', 'Q32I', 'Q32E', 'Q33A', 'Q33I', 'Q33E', 'Q34A', 'Q34I', 'Q34E', 'Q35A', 'Q35I', 'Q35E', 'Q36I', 'Q36E', 'Q37A', 'Q37I', 'Q37E', 'Q38A', 'Q38I', 'Q38E', 'Q39A', 'Q39I', 'Q39E', 'Q40I', 'Q40E', 'Q41I', 'Q41E', 'Q42A', 'Q42I', 'Q42E'])\n",
    "X.head()"
   ]
  },
  {
   "cell_type": "code",
   "execution_count": null,
   "id": "8c1082ed",
   "metadata": {},
   "outputs": [],
   "source": [
    "scaler = StandardScaler()\n",
    "scaler.fit(X)\n",
    "X = scaler.transform(X)"
   ]
  },
  {
   "cell_type": "code",
   "execution_count": null,
   "id": "9c7508d6",
   "metadata": {},
   "outputs": [],
   "source": [
    "# Split the data into training and testing sets\n",
    "X_train, X_test, Y_train, Y_test = train_test_split(X, Y, test_size=0.25, random_state=85)"
   ]
  },
  {
   "cell_type": "markdown",
   "id": "d7978277",
   "metadata": {},
   "source": [
    "### Classification Models"
   ]
  },
  {
   "cell_type": "code",
   "execution_count": null,
   "id": "cc0acde5",
   "metadata": {},
   "outputs": [],
   "source": [
    "# KNN Model for Depression Classification\n",
    "\n",
    "# Create a KNN classifier with k (number of neighbors)\n",
    "knn = KNeighborsClassifier(n_neighbors=95)\n",
    "\n",
    "# Fit the model to the training data\n",
    "knn.fit(X_train, Y_train)\n",
    "\n",
    "# Predict the classes of the testing set\n",
    "Y_pred = knn.predict(X_test)\n",
    "\n",
    "# Calculate the accuracy score of the model\n",
    "accuracy_knn = accuracy_score(Y_test, Y_pred)\n",
    "conf_matrix = confusion_matrix(Y_test, Y_pred)\n",
    "classif_report = classification_report(Y_test, Y_pred)\n",
    "\n",
    "print('Accuracy of KNN Model - Depression: {:.5f}'.format(accuracy_knn))\n",
    "print('Confusion Matrix of KNN Model - Depression: \\n', conf_matrix)\n",
    "print('Confusion Matrix of KNN Model - Depression: \\n', classif_report)"
   ]
  },
  {
   "cell_type": "code",
   "execution_count": null,
   "id": "37f4893d",
   "metadata": {},
   "outputs": [],
   "source": [
    "# SVC Model for Depression Classification\n",
    "svm_model = SVC(kernel='linear')\n",
    "\n",
    "svm_model.fit(X_train, Y_train)\n",
    "\n",
    "preds = svm_model.predict(X_test)\n",
    "\n",
    "# Calculate the accuracy score of the model\n",
    "accuracy_svc = accuracy_score(Y_test, Y_pred)\n",
    "conf_matrix = confusion_matrix(Y_test, Y_pred)\n",
    "classif_report = classification_report(Y_test, Y_pred)\n",
    "\n",
    "print('Accuracy of SVM Model - Depression: {:.5f}'.format(accuracy_svc))\n",
    "print('Confusion Matrix of SVM Model - Depression: \\n', conf_matrix)\n",
    "print('Confusion Matrix of SVM Model - Depression: \\n', classif_report)"
   ]
  },
  {
   "cell_type": "code",
   "execution_count": null,
   "id": "f9ab4aa8",
   "metadata": {},
   "outputs": [],
   "source": [
    "# Naive Bayes Model for Depression Classification\n",
    "\n",
    "clfNB = GaussianNB()\n",
    "\n",
    "# Fit the model to the training data\n",
    "clfNB.fit(X_train, Y_train)\n",
    "\n",
    "# Predict the classes of the testing set\n",
    "Y_pred = clfNB.predict(X_test)\n",
    "\n",
    "# Calculate the accuracy score of the model\n",
    "accuracy_nb = accuracy_score(Y_test, Y_pred)\n",
    "conf_matrix = confusion_matrix(Y_test, Y_pred)\n",
    "classif_report = classification_report(Y_test, Y_pred)\n",
    "\n",
    "print('Accuracy of NB Model - Depression: {:.5f}'.format(accuracy_nb))\n",
    "print('Confusion Matrix of NB Model - Depression: \\n', conf_matrix)\n",
    "print('Classification Report of NB Model - Depression: \\n', classif_report)"
   ]
  },
  {
   "cell_type": "code",
   "execution_count": null,
   "id": "e1366e2f",
   "metadata": {},
   "outputs": [],
   "source": [
    "# Random Forest Classifier Model for Depression Classification\n",
    "\n",
    "clfRFC = RandomForestClassifier(n_estimators=110, random_state=110)\n",
    "\n",
    "# Fit the model to the training data\n",
    "clfRFC.fit(X_train, Y_train)\n",
    "\n",
    "# Predict the classes of the testing set\n",
    "Y_pred = clfRFC.predict(X_test)\n",
    "\n",
    "# Calculate the accuracy score of the model\n",
    "accuracy_rfc = accuracy_score(Y_test, Y_pred)\n",
    "conf_matrix = confusion_matrix(Y_test, Y_pred)\n",
    "classif_report = classification_report(Y_test, Y_pred)\n",
    "\n",
    "\n",
    "print('Accuracy of RFC Model - Depression: {:.5f}'.format(accuracy_rfc))\n",
    "print('Confusion Matrix of RFC Model - Depression: \\n', conf_matrix)\n",
    "print('Classification report of RFC Model - Depression: \\n', classif_report)"
   ]
  },
  {
   "cell_type": "code",
   "execution_count": null,
   "id": "718b3661",
   "metadata": {},
   "outputs": [],
   "source": [
    "# XG Boost Classifier For Depression Classifier\n",
    "xgb_model = XGBClassifier()\n",
    "le = LabelEncoder()\n",
    "\n",
    "xgb_model.fit(X_train, le.fit_transform(Y_train))\n",
    "\n",
    "Y_pred = xgb_model.predict(X_test)\n",
    "Y_pred = le.inverse_transform(Y_pred)\n",
    "\n",
    "accuracy_xgb = accuracy_score(Y_test, Y_pred)\n",
    "conf_matrix = confusion_matrix(Y_test, Y_pred)\n",
    "classif_report = classification_report(Y_test, Y_pred)\n",
    "\n",
    "print('Accuracy of XGB Model - Depression: {:.5f}'.format(accuracy_xgb))\n",
    "print('Confusion Matrix of XGB Model - Depression: \\n', conf_matrix)\n",
    "print('Classification report of XGB Model - Depression: \\n', classif_report)"
   ]
  },
  {
   "cell_type": "code",
   "execution_count": null,
   "id": "1463a42b",
   "metadata": {},
   "outputs": [],
   "source": [
    "# Combining Naive Bayes, XG Boost and Random Forest\n",
    "\n",
    "# Training the models on whole data\n",
    "final_xgb_model = XGBClassifier()\n",
    "final_nb_model = GaussianNB()\n",
    "final_rfc_model = RandomForestClassifier(n_estimators=110, random_state=110)\n",
    "\n",
    "\n",
    "final_xgb_model.fit(X_train, le.fit_transform(Y_train))\n",
    "final_nb_model.fit(X_train, Y_train)\n",
    "final_rfc_model.fit(X_train, Y_train)\n",
    "\n",
    "# Making prediction by take mode of predictions made by all the classifiers\n",
    "xgb_preds = final_xgb_model.predict(X_test)\n",
    "xgb_preds = le.inverse_transform(xgb_preds)\n",
    "\n",
    "nb_preds = final_nb_model.predict(X_test)\n",
    "rfc_preds = final_rfc_model.predict(X_test)\n",
    "\n",
    "final_preds = [mode([i,j,k])[0][0] for i,j, k in zip(xgb_preds, nb_preds, rfc_preds)]\n",
    "\n",
    "accuracy_combined = accuracy_score(Y_test, final_preds)\n",
    "conf_matrix = confusion_matrix(Y_test, final_preds)\n",
    "classif_report = classification_report(Y_test, final_preds)\n",
    "\n",
    "print('Accuracy of Combined Model - Depression: {:.5f}'.format(accuracy_combined))\n",
    "print('Confusion Matrix of Combined Model - Depression: \\n', conf_matrix)\n",
    "print('Classification report of Combined Model - Depression: \\n', classif_report)"
   ]
  },
  {
   "cell_type": "code",
   "execution_count": null,
   "id": "1e6c54de",
   "metadata": {},
   "outputs": [],
   "source": [
    "accuracy_depression = [accuracy_knn, accuracy_svc, accuracy_nb, accuracy_rfc, accuracy_xgb, accuracy_combined]\n",
    "\n",
    "depression_analysis = pd.DataFrame({\n",
    "                        'Models' : ['KNN', 'SVC', 'Naive Bayes', 'Random Forest', 'XG Boost', 'Combined Model'],\n",
    "                        'Accuracy_Depression': [x * 100 for x in accuracy_depression]\n",
    "                    })"
   ]
  },
  {
   "cell_type": "markdown",
   "id": "25e4824c",
   "metadata": {},
   "source": [
    "## Data Classification Models for Anxiety"
   ]
  },
  {
   "cell_type": "markdown",
   "id": "b5ffaccf",
   "metadata": {},
   "source": [
    "### Data Pre-processing"
   ]
  },
  {
   "cell_type": "code",
   "execution_count": null,
   "id": "36560bfd",
   "metadata": {},
   "outputs": [],
   "source": [
    "Y = df['CategoryAnx']\n",
    "X = df.drop(columns=['Q2A','Q4A','Q7A','Q9A','Q15A','Q19A','Q20A','Q23A','Q25A','Q28A','Q30A','Q36A','Q40A','Q41A','introelapse','testelapse', 'surveyelapse','engnat','CategoryAnx','CategoryDepr', 'CategoryStre','country', 'ScoresDepr' ,'ScoresStre','screensize','uniquenetworklocation','Q1A' ,'Q1I', 'Q1E', 'Q2I', 'Q2E', 'Q3A', 'Q3I', 'Q3E','Q4I','Q4E', 'Q5E', 'Q5A' ,'Q5I', 'Q6E', 'Q6A' ,'Q6I', 'Q7E' ,'Q7I', 'Q8E','Q8A' ,'Q8I', 'Q9E', 'Q9I', 'Q10E', 'Q10A', 'Q10I', 'Q11E', 'Q11A' ,'Q11I', 'Q12E', 'Q12A' ,'Q12I', 'Q13E', 'Q13A' ,'Q13I', 'Q14E', 'Q14A' ,'Q14I', 'Q15E', 'Q15I', 'Q16E', 'Q16A' ,'Q16I', 'Q17E', 'Q17A' ,'Q17I', 'Q18E', 'Q18A' ,'Q18I', 'Q19I', 'Q19E',  'Q20I', 'Q20E', 'Q21A', 'Q21I', 'Q21E', 'Q22A', 'Q22I','Q22E', 'Q23I','Q23E','Q24A','Q24I','Q24E', 'Q25I', 'Q25E', 'Q26A', 'Q26I', 'Q26E', 'Q27A', 'Q27I', 'Q27E', 'Q28I', 'Q28E', 'Q29A', 'Q29I', 'Q29E',  'Q30I', 'Q30E', 'Q31A', 'Q31I', 'Q31E', 'Q32A', 'Q32I', 'Q32E', 'Q33A', 'Q33I', 'Q33E', 'Q34A', 'Q34I', 'Q34E', 'Q35A', 'Q35I', 'Q35E', 'Q36I', 'Q36E', 'Q37A', 'Q37I', 'Q37E', 'Q38A', 'Q38I', 'Q38E', 'Q39A', 'Q39I', 'Q39E', 'Q40I', 'Q40E', 'Q41I', 'Q41E', 'Q42A', 'Q42I', 'Q42E'])\n",
    "X.head()"
   ]
  },
  {
   "cell_type": "code",
   "execution_count": null,
   "id": "cd6768ee",
   "metadata": {},
   "outputs": [],
   "source": [
    "scaler = StandardScaler()\n",
    "scaler.fit(X)\n",
    "X = scaler.transform(X)"
   ]
  },
  {
   "cell_type": "code",
   "execution_count": null,
   "id": "535405f3",
   "metadata": {},
   "outputs": [],
   "source": [
    "# Split the data into training and testing sets\n",
    "X_train, X_test, Y_train, Y_test = train_test_split(X, Y, test_size=0.25, random_state=85)"
   ]
  },
  {
   "cell_type": "markdown",
   "id": "ba1e0659",
   "metadata": {},
   "source": [
    "### Classification Models"
   ]
  },
  {
   "cell_type": "code",
   "execution_count": null,
   "id": "762b920d",
   "metadata": {},
   "outputs": [],
   "source": [
    "# KNN Classification\n",
    "# Create a KNN classifier with k (number of neighbors)\n",
    "knn = KNeighborsClassifier(n_neighbors=95)\n",
    "\n",
    "# Fit the model to the training data\n",
    "knn.fit(X_train, Y_train)\n",
    "\n",
    "# Predict the classes of the testing set\n",
    "Y_pred = knn.predict(X_test)\n",
    "\n",
    "# Calculate the accuracy score of the model\n",
    "accuracy_knn = accuracy_score(Y_test, Y_pred)\n",
    "conf_matrix = confusion_matrix(Y_test, Y_pred)\n",
    "classif_report = classification_report(Y_test, Y_pred)\n",
    "\n",
    "print('Accuracy of KNN Model - Anxiety: {:.5f}'.format(accuracy_knn))\n",
    "print('Confusion Matrix of KNN Model - Anxiety: \\n', conf_matrix)\n",
    "print('Confusion Matrix of KNN Model - Anxiety: \\n', classif_report)"
   ]
  },
  {
   "cell_type": "code",
   "execution_count": null,
   "id": "22a2641d",
   "metadata": {},
   "outputs": [],
   "source": [
    "# SVC Model for Anxiety Classification\n",
    "svm_model = SVC(kernel='linear')\n",
    "\n",
    "svm_model.fit(X_train, Y_train)\n",
    "\n",
    "preds = svm_model.predict(X_test)\n",
    "\n",
    "# Calculate the accuracy score of the model\n",
    "accuracy_svc = accuracy_score(Y_test, Y_pred)\n",
    "conf_matrix = confusion_matrix(Y_test, Y_pred)\n",
    "classif_report = classification_report(Y_test, Y_pred)\n",
    "\n",
    "print('Accuracy of SVM Model - Anxiety: {:.5f}'.format(accuracy_svc))\n",
    "print('Confusion Matrix of SVM Model - Anxiety: \\n', conf_matrix)\n",
    "print('Confusion Matrix of SVM Model - Anxiety: \\n', classif_report)"
   ]
  },
  {
   "cell_type": "code",
   "execution_count": null,
   "id": "6d25eaf6",
   "metadata": {},
   "outputs": [],
   "source": [
    "# Naive Bayes Model for Anxiety Classification\n",
    "clfNB = GaussianNB()\n",
    "\n",
    "# Fit the model to the training data\n",
    "clfNB.fit(X_train, Y_train)\n",
    "\n",
    "# Predict the classes of the testing set\n",
    "Y_pred = clfNB.predict(X_test)\n",
    "\n",
    "# Calculate the accuracy score of the model\n",
    "accuracy_nb = accuracy_score(Y_test, Y_pred)\n",
    "conf_matrix = confusion_matrix(Y_test, Y_pred)\n",
    "classif_report = classification_report(Y_test, Y_pred)\n",
    "\n",
    "print('Accuracy of NB Model - Anxiety: {:.5f}'.format(accuracy_nb))\n",
    "print('Confusion Matrix of NB Model - Anxiety: \\n', conf_matrix)\n",
    "print('Classification Report of NB Model - Anxiety: \\n', classif_report)"
   ]
  },
  {
   "cell_type": "code",
   "execution_count": null,
   "id": "ac250cc2",
   "metadata": {},
   "outputs": [],
   "source": [
    "# Random Forest Classifier Model for Anxiety Classification\n",
    "clfRFC = RandomForestClassifier(n_estimators=95, random_state=85)\n",
    "\n",
    "# Fit the model to the training data\n",
    "clfRFC.fit(X_train, Y_train)\n",
    "\n",
    "# Predict the classes of the testing set\n",
    "Y_pred = clfRFC.predict(X_test)\n",
    "\n",
    "# Calculate the accuracy score of the model\n",
    "accuracy_rfc = accuracy_score(Y_test, Y_pred)\n",
    "conf_matrix = confusion_matrix(Y_test, Y_pred)\n",
    "classif_report = classification_report(Y_test, Y_pred)\n",
    "\n",
    "\n",
    "print('Accuracy of RFC Model - Anxiety: {:.5f}'.format(accuracy_rfc))\n",
    "print('Confusion Matrix of RFC Model - Anxiety: \\n', conf_matrix)\n",
    "print('Classification report of KNN Model - Anxiety: \\n', classif_report)"
   ]
  },
  {
   "cell_type": "code",
   "execution_count": null,
   "id": "63b10489",
   "metadata": {},
   "outputs": [],
   "source": [
    "# XG Boost Classifier For Anxiety Classifier\n",
    "xgb_model = XGBClassifier()\n",
    "le = LabelEncoder()\n",
    "\n",
    "xgb_model.fit(X_train, le.fit_transform(Y_train))\n",
    "\n",
    "Y_pred = xgb_model.predict(X_test)\n",
    "Y_pred = le.inverse_transform(Y_pred)\n",
    "\n",
    "accuracy_xgb = accuracy_score(Y_test, Y_pred)\n",
    "conf_matrix = confusion_matrix(Y_test, Y_pred)\n",
    "classif_report = classification_report(Y_test, Y_pred)\n",
    "\n",
    "print('Accuracy of XGB Model - Anxiety: {:.5f}'.format(accuracy_xgb))\n",
    "print('Confusion Matrix of XGB Model - Anxiety: \\n', conf_matrix)\n",
    "print('Classification report of XGB Model - Anxiety: \\n', classif_report)"
   ]
  },
  {
   "cell_type": "code",
   "execution_count": null,
   "id": "68a04e21",
   "metadata": {},
   "outputs": [],
   "source": [
    "# Combining Naive Bayes, XG Boost and Random Forest\n",
    "\n",
    "# Training the models on whole data\n",
    "final_xgb_model = XGBClassifier()\n",
    "final_nb_model = GaussianNB()\n",
    "final_rfc_model = RandomForestClassifier(n_estimators=110, random_state=110)\n",
    "\n",
    "\n",
    "final_xgb_model.fit(X_train, le.fit_transform(Y_train))\n",
    "final_nb_model.fit(X_train, Y_train)\n",
    "final_rfc_model.fit(X_train, Y_train)\n",
    "\n",
    "# Making prediction by take mode of predictions made by all the classifiers\n",
    "xgb_preds = final_xgb_model.predict(X_test)\n",
    "xgb_preds = le.inverse_transform(xgb_preds)\n",
    "\n",
    "nb_preds = final_nb_model.predict(X_test)\n",
    "rfc_preds = final_rfc_model.predict(X_test)\n",
    "\n",
    "final_preds = [mode([i,j,k])[0][0] for i,j, k in zip(xgb_preds, nb_preds, rfc_preds)]\n",
    "\n",
    "accuracy_combined = accuracy_score(Y_test, final_preds)\n",
    "conf_matrix = confusion_matrix(Y_test, final_preds)\n",
    "classif_report = classification_report(Y_test, final_preds)\n",
    "\n",
    "print('Accuracy of Combined Model - Anxiety: {:.5f}'.format(accuracy_combined))\n",
    "print('Confusion Matrix of Combined Model - Anxiety: \\n', conf_matrix)\n",
    "print('Classification report of Combined Model - Anxiety: \\n', classif_report)"
   ]
  },
  {
   "cell_type": "code",
   "execution_count": null,
   "id": "09588f85",
   "metadata": {},
   "outputs": [],
   "source": [
    "accuracy_anxiety = [accuracy_knn, accuracy_svc, accuracy_nb, accuracy_rfc, accuracy_xgb, accuracy_combined]\n",
    "\n",
    "anxiety_analysis = pd.DataFrame({\n",
    "                        'Models' : ['KNN', 'SVC', 'Naive Bayes', 'Random Forest', 'XG Boost', 'Combined Model'],\n",
    "                        'Accuracy_Anxiety': [x * 100 for x in accuracy_anxiety]\n",
    "                    })"
   ]
  },
  {
   "cell_type": "markdown",
   "id": "94d1ebe9",
   "metadata": {},
   "source": [
    "## Data Classification Models for Stress"
   ]
  },
  {
   "cell_type": "markdown",
   "id": "8136006b",
   "metadata": {},
   "source": [
    "### Data Preprocessing"
   ]
  },
  {
   "cell_type": "code",
   "execution_count": null,
   "id": "f45d38ae",
   "metadata": {},
   "outputs": [],
   "source": [
    "Y = df['CategoryStre']\n",
    "X = df.drop(columns=['Q2A','Q4A','Q7A','Q9A','Q15A','Q19A','Q20A','Q23A','Q25A','Q28A','Q30A','Q36A','Q40A','Q41A','introelapse','testelapse', 'surveyelapse','engnat','CategoryStre','CategoryAnx', 'CategoryDepr', 'country', 'ScoresDepr' ,'ScoresAnx','screensize','uniquenetworklocation','Q1A' ,'Q1I', 'Q1E', 'Q2I', 'Q2E', 'Q3A', 'Q3I', 'Q3E','Q4I','Q4E', 'Q5E', 'Q5A' ,'Q5I', 'Q6E', 'Q6A' ,'Q6I', 'Q7E' ,'Q7I', 'Q8E','Q8A' ,'Q8I', 'Q9E', 'Q9I', 'Q10E', 'Q10A', 'Q10I', 'Q11E', 'Q11A' ,'Q11I', 'Q12E', 'Q12A' ,'Q12I', 'Q13E', 'Q13A' ,'Q13I', 'Q14E', 'Q14A' ,'Q14I', 'Q15E', 'Q15I', 'Q16E', 'Q16A' ,'Q16I', 'Q17E', 'Q17A' ,'Q17I', 'Q18E', 'Q18A' ,'Q18I', 'Q19I', 'Q19E',  'Q20I', 'Q20E', 'Q21A', 'Q21I', 'Q21E', 'Q22A', 'Q22I','Q22E', 'Q23I','Q23E','Q24A','Q24I','Q24E', 'Q25I', 'Q25E', 'Q26A', 'Q26I', 'Q26E', 'Q27A', 'Q27I', 'Q27E', 'Q28I', 'Q28E', 'Q29A', 'Q29I', 'Q29E',  'Q30I', 'Q30E', 'Q31A', 'Q31I', 'Q31E', 'Q32A', 'Q32I', 'Q32E', 'Q33A', 'Q33I', 'Q33E', 'Q34A', 'Q34I', 'Q34E', 'Q35A', 'Q35I', 'Q35E', 'Q36I', 'Q36E', 'Q37A', 'Q37I', 'Q37E', 'Q38A', 'Q38I', 'Q38E', 'Q39A', 'Q39I', 'Q39E', 'Q40I', 'Q40E', 'Q41I', 'Q41E', 'Q42A', 'Q42I', 'Q42E'])\n",
    "X.head()"
   ]
  },
  {
   "cell_type": "code",
   "execution_count": null,
   "id": "01761cf1",
   "metadata": {},
   "outputs": [],
   "source": [
    "scaler = StandardScaler()\n",
    "scaler.fit(X)\n",
    "X = scaler.transform(X)"
   ]
  },
  {
   "cell_type": "code",
   "execution_count": null,
   "id": "03b4cc3a",
   "metadata": {},
   "outputs": [],
   "source": [
    "# Split the data into training and testing sets\n",
    "X_train, X_test, Y_train, Y_test = train_test_split(X, Y, test_size=0.25, random_state=85)"
   ]
  },
  {
   "cell_type": "markdown",
   "id": "49cf0a3d",
   "metadata": {},
   "source": [
    "### Classification Models"
   ]
  },
  {
   "cell_type": "code",
   "execution_count": null,
   "id": "35b76986",
   "metadata": {},
   "outputs": [],
   "source": [
    "# KNN Model for Stress Classification\n",
    "\n",
    "# Create a KNN classifier with k (number of neighbors)\n",
    "knn = KNeighborsClassifier(n_neighbors=95)\n",
    "\n",
    "# Fit the model to the training data\n",
    "knn.fit(X_train, Y_train)\n",
    "\n",
    "# Predict the classes of the testing set\n",
    "Y_pred = knn.predict(X_test)\n",
    "\n",
    "# Calculate the accuracy score of the model\n",
    "accuracy_knn = accuracy_score(Y_test, Y_pred)\n",
    "conf_matrix = confusion_matrix(Y_test, Y_pred)\n",
    "classif_report = classification_report(Y_test, Y_pred)\n",
    "\n",
    "print('Accuracy of KNN Model - Stress: {:.5f}'.format(accuracy_knn))\n",
    "print('Confusion Matrix of KNN Model - Stress: \\n', conf_matrix)\n",
    "print('Confusion Matrix of KNN Model - Stress: \\n', classif_report)"
   ]
  },
  {
   "cell_type": "code",
   "execution_count": null,
   "id": "31b252ae",
   "metadata": {},
   "outputs": [],
   "source": [
    "# SVC Model for Stress Classification\n",
    "svm_model = SVC(kernel='linear')\n",
    "\n",
    "svm_model.fit(X_train, Y_train)\n",
    "\n",
    "preds = svm_model.predict(X_test)\n",
    "\n",
    "# Calculate the accuracy score of the model\n",
    "accuracy_svc = accuracy_score(Y_test, Y_pred)\n",
    "conf_matrix = confusion_matrix(Y_test, Y_pred)\n",
    "classif_report = classification_report(Y_test, Y_pred)\n",
    "\n",
    "print('Accuracy of SVM Model - Anxiety: {:.5f}'.format(accuracy_svc))\n",
    "print('Confusion Matrix of SVM Model - Anxiety: \\n', conf_matrix)\n",
    "print('Confusion Matrix of SVM Model - Anxiety: \\n', classif_report)"
   ]
  },
  {
   "cell_type": "code",
   "execution_count": null,
   "id": "0aa3bd60",
   "metadata": {},
   "outputs": [],
   "source": [
    "# Naive Bayes Model for Stress Classification\n",
    "\n",
    "clfNB = GaussianNB()\n",
    "\n",
    "# Fit the model to the training data\n",
    "clfNB.fit(X_train, Y_train)\n",
    "\n",
    "# Predict the classes of the testing set\n",
    "Y_pred = clfNB.predict(X_test)\n",
    "\n",
    "# Calculate the accuracy score of the model\n",
    "accuracy_nb = accuracy_score(Y_test, Y_pred)\n",
    "conf_matrix = confusion_matrix(Y_test, Y_pred)\n",
    "classif_report = classification_report(Y_test, Y_pred)\n",
    "\n",
    "print('Accuracy of NB Model - Stress: {:.5f}'.format(accuracy_nb))\n",
    "print('Confusion Matrix of NB Model - Stress: \\n', conf_matrix)\n",
    "print('Classification Report of KNN Model - Stress: \\n', classif_report)"
   ]
  },
  {
   "cell_type": "code",
   "execution_count": null,
   "id": "16efa556",
   "metadata": {},
   "outputs": [],
   "source": [
    "# Random Forest Classifier Model for Stress Classification\n",
    "\n",
    "clfRFC = RandomForestClassifier(n_estimators=95, random_state=85)\n",
    "\n",
    "# Fit the model to the training data\n",
    "clfRFC.fit(X_train, Y_train)\n",
    "\n",
    "# Predict the classes of the testing set\n",
    "Y_pred = clfRFC.predict(X_test)\n",
    "\n",
    "# Calculate the accuracy score of the model\n",
    "accuracy_rfc = accuracy_score(Y_test, Y_pred)\n",
    "conf_matrix = confusion_matrix(Y_test, Y_pred)\n",
    "classif_report = classification_report(Y_test, Y_pred)\n",
    "\n",
    "\n",
    "print('Accuracy of RFC Model - Stress: {:.5f}'.format(accuracy_rfc))\n",
    "print('Confusion Matrix of RFC Model - Stress: \\n', conf_matrix)\n",
    "print('Classification report of KNN Model - Stress: \\n', classif_report)"
   ]
  },
  {
   "cell_type": "code",
   "execution_count": null,
   "id": "a7eae8d4",
   "metadata": {},
   "outputs": [],
   "source": [
    "# XG Boost Classifier For Anxiety Classifier\n",
    "xgb_model = XGBClassifier()\n",
    "le = LabelEncoder()\n",
    "\n",
    "xgb_model.fit(X_train, le.fit_transform(Y_train))\n",
    "\n",
    "Y_pred = xgb_model.predict(X_test)\n",
    "Y_pred = le.inverse_transform(Y_pred)\n",
    "\n",
    "accuracy_xgb = accuracy_score(Y_test, Y_pred)\n",
    "conf_matrix = confusion_matrix(Y_test, Y_pred)\n",
    "classif_report = classification_report(Y_test, Y_pred)\n",
    "\n",
    "print('Accuracy of XGB Model - Stress: {:.5f}'.format(accuracy_xgb))\n",
    "print('Confusion Matrix of XGB Model - Stress: \\n', conf_matrix)\n",
    "print('Classification report of XGB Model - Stress: \\n', classif_report)"
   ]
  },
  {
   "cell_type": "code",
   "execution_count": null,
   "id": "4e4a0979",
   "metadata": {},
   "outputs": [],
   "source": [
    "# Combining Naive Bayes, XG Boost and Random Forest\n",
    "\n",
    "# Training the models on whole data\n",
    "final_xgb_model = XGBClassifier()\n",
    "final_nb_model = GaussianNB()\n",
    "final_rfc_model = RandomForestClassifier(n_estimators=110, random_state=110)\n",
    "\n",
    "\n",
    "final_xgb_model.fit(X_train, le.fit_transform(Y_train))\n",
    "final_nb_model.fit(X_train, Y_train)\n",
    "final_rfc_model.fit(X_train, Y_train)\n",
    "\n",
    "# Making prediction by take mode of predictions made by all the classifiers\n",
    "xgb_preds = final_xgb_model.predict(X_test)\n",
    "xgb_preds = le.inverse_transform(xgb_preds)\n",
    "\n",
    "nb_preds = final_nb_model.predict(X_test)\n",
    "rfc_preds = final_rfc_model.predict(X_test)\n",
    "\n",
    "final_preds = [mode([i,j,k])[0][0] for i,j, k in zip(xgb_preds, nb_preds, rfc_preds)]\n",
    "\n",
    "accuracy_combined = accuracy_score(Y_test, final_preds)\n",
    "conf_matrix = confusion_matrix(Y_test, final_preds)\n",
    "classif_report = classification_report(Y_test, final_preds)\n",
    "\n",
    "print('Accuracy of Combined Model - Stress: {:.5f}'.format(accuracy_combined))\n",
    "print('Confusion Matrix of Combined Model - Stress: \\n', conf_matrix)\n",
    "print('Classification report of Combined Model - Stress: \\n', classif_report)"
   ]
  },
  {
   "cell_type": "code",
   "execution_count": null,
   "id": "6a5f8e8c",
   "metadata": {},
   "outputs": [],
   "source": [
    "accuracy_stress = [accuracy_knn, accuracy_svc, accuracy_nb, accuracy_rfc, accuracy_xgb, accuracy_combined]\n",
    "\n",
    "stress_analysis = pd.DataFrame({\n",
    "                        'Models' : ['KNN', 'SVC', 'Naive Bayes', 'Random Forest', 'XG Boost', 'Combined Model'],\n",
    "                        'Accuracy_Stress': [x * 100 for x in accuracy_stress]\n",
    "                    })"
   ]
  },
  {
   "cell_type": "markdown",
   "id": "f47a8d4b",
   "metadata": {},
   "source": [
    "## Analysis of the Models Used"
   ]
  },
  {
   "cell_type": "code",
   "execution_count": null,
   "id": "c99bbb86",
   "metadata": {},
   "outputs": [],
   "source": [
    "analysis = pd.concat([stress_analysis.set_index('Models'), \n",
    "                      anxiety_analysis.set_index('Models'), \n",
    "                      depression_analysis.set_index('Models')],\n",
    "                     axis=1)"
   ]
  },
  {
   "cell_type": "code",
   "execution_count": null,
   "id": "e5c70804",
   "metadata": {},
   "outputs": [],
   "source": [
    "analysis.head()"
   ]
  },
  {
   "cell_type": "code",
   "execution_count": null,
   "id": "59a57a1e",
   "metadata": {},
   "outputs": [],
   "source": [
    "ax = analysis.plot(kind='barh')\n",
    "plt.title(\"Accuracy of classification using different ML algorithms for DASS42\")\n",
    "plt.xlabel(\"Accuracy\")\n",
    "plt.ylabel(\"Models\")\n",
    "plt.show()"
   ]
  }
 ],
 "metadata": {
  "kernelspec": {
   "display_name": "Python 3 (ipykernel)",
   "language": "python",
   "name": "python3"
  },
  "language_info": {
   "codemirror_mode": {
    "name": "ipython",
    "version": 3
   },
   "file_extension": ".py",
   "mimetype": "text/x-python",
   "name": "python",
   "nbconvert_exporter": "python",
   "pygments_lexer": "ipython3",
   "version": "3.11.7"
  }
 },
 "nbformat": 4,
 "nbformat_minor": 5
}
